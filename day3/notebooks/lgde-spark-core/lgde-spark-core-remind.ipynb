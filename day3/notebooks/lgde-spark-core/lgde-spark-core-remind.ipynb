{
 "cells": [
  {
   "cell_type": "markdown",
   "id": "ead17e2a-c833-4691-92e8-89a060b1985a",
   "metadata": {},
   "source": [
    "### 퀴즈를 풀기 위한 스파크 세션을 생성합니다"
   ]
  },
  {
   "cell_type": "code",
   "execution_count": 1,
   "id": "c0bf7fe4-7207-4db0-8770-a9e03a101337",
   "metadata": {},
   "outputs": [
    {
     "name": "stderr",
     "output_type": "stream",
     "text": [
      "22/07/24 12:44:05 WARN NativeCodeLoader: Unable to load native-hadoop library for your platform... using builtin-java classes where applicable\n",
      "Using Spark's default log4j profile: org/apache/spark/log4j-defaults.properties\n",
      "Setting default log level to \"WARN\".\n",
      "To adjust logging level use sc.setLogLevel(newLevel). For SparkR, use setLogLevel(newLevel).\n"
     ]
    },
    {
     "data": {
      "text/html": [
       "\n",
       "            <div>\n",
       "                <p><b>SparkSession - in-memory</b></p>\n",
       "                \n",
       "        <div>\n",
       "            <p><b>SparkContext</b></p>\n",
       "\n",
       "            <p><a href=\"http://232bceae482b:4040\">Spark UI</a></p>\n",
       "\n",
       "            <dl>\n",
       "              <dt>Version</dt>\n",
       "                <dd><code>v3.1.2</code></dd>\n",
       "              <dt>Master</dt>\n",
       "                <dd><code>local[*]</code></dd>\n",
       "              <dt>AppName</dt>\n",
       "                <dd><code>pyspark-shell</code></dd>\n",
       "            </dl>\n",
       "        </div>\n",
       "        \n",
       "            </div>\n",
       "        "
      ],
      "text/plain": [
       "<pyspark.sql.session.SparkSession at 0x7f3e8cc8adf0>"
      ]
     },
     "execution_count": 1,
     "metadata": {},
     "output_type": "execute_result"
    }
   ],
   "source": [
    "from pyspark.sql import *\n",
    "from pyspark.sql.functions import *\n",
    "from pyspark.sql.types import *\n",
    "from IPython.display import display, display_pretty, clear_output, JSON\n",
    "\n",
    "spark = (\n",
    "    SparkSession\n",
    "    .builder\n",
    "    .config(\"spark.sql.session.timeZone\", \"Asia/Seoul\")\n",
    "    .getOrCreate()\n",
    ")\n",
    "\n",
    "# 노트북에서 테이블 형태로 데이터 프레임 출력을 위한 설정을 합니다\n",
    "spark.conf.set(\"spark.sql.repl.eagerEval.enabled\", True) # display enabled\n",
    "spark.conf.set(\"spark.sql.repl.eagerEval.truncate\", 100) # display output columns size\n",
    "\n",
    "# 공통 데이터 위치\n",
    "home_jovyan = \"/home/jovyan\"\n",
    "work_data = f\"{home_jovyan}/work/data\"\n",
    "work_dir=!pwd\n",
    "work_dir = work_dir[0]\n",
    "\n",
    "# 로컬 환경 최적화\n",
    "spark.conf.set(\"spark.sql.shuffle.partitions\", 5) # the number of partitions to use when shuffling data for joins or aggregations.\n",
    "spark.conf.set(\"spark.sql.streaming.forceDeleteTempCheckpointLocation\", \"true\")\n",
    "spark"
   ]
  },
  {
   "cell_type": "markdown",
   "id": "4336e5c9-bb5a-46ac-b789-267485ad54d6",
   "metadata": {},
   "source": [
    "### 퀴즈 1. 이용자 데이터를 읽어서 user 라는 변수에 담아서 printSchema 및 display 함수를 써서 스키마와 데이터를 출력하세요\n",
    "* 이용자 파일 위치 : `data/tbl_user.csv` \n",
    "* 파일 포맷 : csv\n",
    "* 읽기 옵션 : inferSchema=true, header=true"
   ]
  },
  {
   "cell_type": "code",
   "execution_count": 2,
   "id": "cb93f2b0-0d7c-424d-b136-6f5760a618c0",
   "metadata": {},
   "outputs": [
    {
     "name": "stdout",
     "output_type": "stream",
     "text": [
      "root\n",
      " |-- u_id: integer (nullable = true)\n",
      " |-- u_name: string (nullable = true)\n",
      " |-- u_gender: string (nullable = true)\n",
      " |-- u_signup: integer (nullable = true)\n",
      "\n"
     ]
    },
    {
     "data": {
      "text/html": [
       "<table border='1'>\n",
       "<tr><th>u_id</th><th>u_name</th><th>u_gender</th><th>u_signup</th></tr>\n",
       "<tr><td>1</td><td>정휘센</td><td>남</td><td>19700808</td></tr>\n",
       "<tr><td>2</td><td>김싸이언</td><td>남</td><td>19710201</td></tr>\n",
       "<tr><td>3</td><td>박트롬</td><td>여</td><td>19951030</td></tr>\n",
       "<tr><td>4</td><td>청소기</td><td>남</td><td>19770329</td></tr>\n",
       "<tr><td>5</td><td>유코드제로</td><td>여</td><td>20021029</td></tr>\n",
       "<tr><td>6</td><td>윤디오스</td><td>남</td><td>20040101</td></tr>\n",
       "<tr><td>7</td><td>임모바일</td><td>남</td><td>20040807</td></tr>\n",
       "<tr><td>8</td><td>조노트북</td><td>여</td><td>20161201</td></tr>\n",
       "<tr><td>9</td><td>최컴퓨터</td><td>남</td><td>20201124</td></tr>\n",
       "</table>\n"
      ],
      "text/plain": [
       "+----+----------+--------+--------+\n",
       "|u_id|    u_name|u_gender|u_signup|\n",
       "+----+----------+--------+--------+\n",
       "|   1|    정휘센|      남|19700808|\n",
       "|   2|  김싸이언|      남|19710201|\n",
       "|   3|    박트롬|      여|19951030|\n",
       "|   4|    청소기|      남|19770329|\n",
       "|   5|유코드제로|      여|20021029|\n",
       "|   6|  윤디오스|      남|20040101|\n",
       "|   7|  임모바일|      남|20040807|\n",
       "|   8|  조노트북|      여|20161201|\n",
       "|   9|  최컴퓨터|      남|20201124|\n",
       "+----+----------+--------+--------+"
      ]
     },
     "metadata": {},
     "output_type": "display_data"
    }
   ],
   "source": [
    "user = spark.read.option(\"inferSchema\", \"true\").option(\"header\", \"true\").csv(f\"{work_data}/tbl_user.csv\")\n",
    "user.printSchema()\n",
    "display(user)"
   ]
  },
  {
   "cell_type": "markdown",
   "id": "9ef67c37-3842-4f9e-9658-ddbe5746fdf9",
   "metadata": {},
   "source": [
    "### 퀴즈 2. 이용자 데이터프레임을 아래의 조건에 맞도록 변환 후, tbl_user 이라는 변수에 담아서, 스키마와 데이터를 출력하세요\n",
    "* 컬럼 이름 변경 : u_signup -> u_register\n",
    "* 컬럼 변경 : u_name 컬럼의 첫 글자를 u_family_name 으로, 나머지 글자 전부를 u_given_name 으로 u_name 컬럼은 제거\n",
    "* 최종 출력 컬럼 : u_id, u_gender, u_register, u_family_name, u_given_name"
   ]
  },
  {
   "cell_type": "code",
   "execution_count": 3,
   "id": "ee83e829-bd82-4728-b260-3be3739bf8a9",
   "metadata": {},
   "outputs": [
    {
     "name": "stdout",
     "output_type": "stream",
     "text": [
      "root\n",
      " |-- u_id: integer (nullable = true)\n",
      " |-- u_gender: string (nullable = true)\n",
      " |-- u_register: integer (nullable = true)\n",
      " |-- u_family_name: string (nullable = true)\n",
      " |-- u_given_name: string (nullable = true)\n",
      "\n"
     ]
    },
    {
     "data": {
      "text/html": [
       "<table border='1'>\n",
       "<tr><th>u_id</th><th>u_gender</th><th>u_register</th><th>u_family_name</th><th>u_given_name</th></tr>\n",
       "<tr><td>1</td><td>남</td><td>19700808</td><td>정</td><td>휘센</td></tr>\n",
       "<tr><td>2</td><td>남</td><td>19710201</td><td>김</td><td>싸이언</td></tr>\n",
       "<tr><td>3</td><td>여</td><td>19951030</td><td>박</td><td>트롬</td></tr>\n",
       "<tr><td>4</td><td>남</td><td>19770329</td><td>청</td><td>소기</td></tr>\n",
       "<tr><td>5</td><td>여</td><td>20021029</td><td>유</td><td>코드제로</td></tr>\n",
       "<tr><td>6</td><td>남</td><td>20040101</td><td>윤</td><td>디오스</td></tr>\n",
       "<tr><td>7</td><td>남</td><td>20040807</td><td>임</td><td>모바일</td></tr>\n",
       "<tr><td>8</td><td>여</td><td>20161201</td><td>조</td><td>노트북</td></tr>\n",
       "<tr><td>9</td><td>남</td><td>20201124</td><td>최</td><td>컴퓨터</td></tr>\n",
       "</table>\n"
      ],
      "text/plain": [
       "+----+--------+----------+-------------+------------+\n",
       "|u_id|u_gender|u_register|u_family_name|u_given_name|\n",
       "+----+--------+----------+-------------+------------+\n",
       "|   1|      남|  19700808|           정|        휘센|\n",
       "|   2|      남|  19710201|           김|      싸이언|\n",
       "|   3|      여|  19951030|           박|        트롬|\n",
       "|   4|      남|  19770329|           청|        소기|\n",
       "|   5|      여|  20021029|           유|    코드제로|\n",
       "|   6|      남|  20040101|           윤|      디오스|\n",
       "|   7|      남|  20040807|           임|      모바일|\n",
       "|   8|      여|  20161201|           조|      노트북|\n",
       "|   9|      남|  20201124|           최|      컴퓨터|\n",
       "+----+--------+----------+-------------+------------+"
      ]
     },
     "metadata": {},
     "output_type": "display_data"
    }
   ],
   "source": [
    "# structured api 방식으로 구현이 가능합니다\n",
    "from pyspark.sql.functions import *\n",
    "tbl_user = (\n",
    "    user\n",
    "    .withColumnRenamed(\"u_signup\", \"u_register\")\n",
    "    .withColumn(\"u_family_name\", substring(\"u_name\", 0, 1))\n",
    "    .withColumn(\"u_given_name\", col(\"u_name\").substr(2, len(\"u_name\")))\n",
    "    .drop(\"u_name\")\n",
    ")\n",
    "tbl_user.printSchema()\n",
    "display(tbl_user)"
   ]
  },
  {
   "cell_type": "code",
   "execution_count": 4,
   "id": "f5a9601d-f171-4e6e-8e76-6390d67b5a65",
   "metadata": {},
   "outputs": [
    {
     "name": "stdout",
     "output_type": "stream",
     "text": [
      "root\n",
      " |-- u_id: integer (nullable = true)\n",
      " |-- u_gender: string (nullable = true)\n",
      " |-- u_register: integer (nullable = true)\n",
      " |-- u_family_name: string (nullable = true)\n",
      " |-- u_given_name: string (nullable = true)\n",
      "\n"
     ]
    },
    {
     "data": {
      "text/html": [
       "<table border='1'>\n",
       "<tr><th>u_id</th><th>u_gender</th><th>u_register</th><th>u_family_name</th><th>u_given_name</th></tr>\n",
       "<tr><td>1</td><td>남</td><td>19700808</td><td>정</td><td>휘센</td></tr>\n",
       "<tr><td>2</td><td>남</td><td>19710201</td><td>김</td><td>싸이언</td></tr>\n",
       "<tr><td>3</td><td>여</td><td>19951030</td><td>박</td><td>트롬</td></tr>\n",
       "<tr><td>4</td><td>남</td><td>19770329</td><td>청</td><td>소기</td></tr>\n",
       "<tr><td>5</td><td>여</td><td>20021029</td><td>유</td><td>코드제로</td></tr>\n",
       "<tr><td>6</td><td>남</td><td>20040101</td><td>윤</td><td>디오스</td></tr>\n",
       "<tr><td>7</td><td>남</td><td>20040807</td><td>임</td><td>모바일</td></tr>\n",
       "<tr><td>8</td><td>여</td><td>20161201</td><td>조</td><td>노트북</td></tr>\n",
       "<tr><td>9</td><td>남</td><td>20201124</td><td>최</td><td>컴퓨터</td></tr>\n",
       "</table>\n"
      ],
      "text/plain": [
       "+----+--------+----------+-------------+------------+\n",
       "|u_id|u_gender|u_register|u_family_name|u_given_name|\n",
       "+----+--------+----------+-------------+------------+\n",
       "|   1|      남|  19700808|           정|        휘센|\n",
       "|   2|      남|  19710201|           김|      싸이언|\n",
       "|   3|      여|  19951030|           박|        트롬|\n",
       "|   4|      남|  19770329|           청|        소기|\n",
       "|   5|      여|  20021029|           유|    코드제로|\n",
       "|   6|      남|  20040101|           윤|      디오스|\n",
       "|   7|      남|  20040807|           임|      모바일|\n",
       "|   8|      여|  20161201|           조|      노트북|\n",
       "|   9|      남|  20201124|           최|      컴퓨터|\n",
       "+----+--------+----------+-------------+------------+"
      ]
     },
     "metadata": {},
     "output_type": "display_data"
    }
   ],
   "source": [
    "from pyspark.sql.functions import *\n",
    "\n",
    "tbl_user = (\n",
    "    user\n",
    "    .withColumnRenamed(\"u_signup\", \"u_register\")\n",
    "    .withColumn(\"u_family_name\", expr(\"substr(u_name, 0, 1)\"))\n",
    "    .withColumn(\"u_given_name\", expr(\"substr(u_name, 2)\"))\n",
    "    .drop(\"u_name\")\n",
    ")\n",
    "tbl_user.printSchema()\n",
    "display(tbl_user)"
   ]
  },
  {
   "cell_type": "markdown",
   "id": "654b9c73-c46f-4c1f-8999-5f6b9409c60c",
   "metadata": {},
   "source": [
    "### 퀴즈 3. 매출 데이터를 읽어서 tbl_purchase 이라는 변수에 담고 tbl_user 과 조인하여 fact_daily 변수에 담아서 데이터를 출력하세요\n",
    "* 조인 조건 : tbl_user.u_id == tbl_purchase.p_uid\n",
    "* 조인 방식 : tbl_user 테이블을 기준으로 left outer join"
   ]
  },
  {
   "cell_type": "code",
   "execution_count": 5,
   "id": "1b76e281-d7ac-49e0-a1e3-cc92280071f4",
   "metadata": {},
   "outputs": [
    {
     "name": "stdout",
     "output_type": "stream",
     "text": [
      "root\n",
      " |-- p_time: integer (nullable = true)\n",
      " |-- p_uid: integer (nullable = true)\n",
      " |-- p_id: integer (nullable = true)\n",
      " |-- p_name: string (nullable = true)\n",
      " |-- p_amount: integer (nullable = true)\n",
      "\n"
     ]
    },
    {
     "data": {
      "text/html": [
       "<table border='1'>\n",
       "<tr><th>p_time</th><th>p_uid</th><th>p_id</th><th>p_name</th><th>p_amount</th></tr>\n",
       "<tr><td>1603651550</td><td>0</td><td>1000</td><td>GoldStar TV</td><td>100000</td></tr>\n",
       "<tr><td>1603651550</td><td>1</td><td>2000</td><td>LG DIOS</td><td>2000000</td></tr>\n",
       "<tr><td>1603694755</td><td>1</td><td>2001</td><td>LG Gram</td><td>1800000</td></tr>\n",
       "<tr><td>1603673500</td><td>2</td><td>2002</td><td>LG Cyon</td><td>1400000</td></tr>\n",
       "<tr><td>1603652155</td><td>3</td><td>2003</td><td>LG TV</td><td>1000000</td></tr>\n",
       "<tr><td>1603674500</td><td>4</td><td>2004</td><td>LG Computer</td><td>4500000</td></tr>\n",
       "<tr><td>1603665955</td><td>5</td><td>2001</td><td>LG Gram</td><td>3500000</td></tr>\n",
       "<tr><td>1603666155</td><td>5</td><td>2003</td><td>LG TV</td><td>2500000</td></tr>\n",
       "</table>\n"
      ],
      "text/plain": [
       "+----------+-----+----+-----------+--------+\n",
       "|    p_time|p_uid|p_id|     p_name|p_amount|\n",
       "+----------+-----+----+-----------+--------+\n",
       "|1603651550|    0|1000|GoldStar TV|  100000|\n",
       "|1603651550|    1|2000|    LG DIOS| 2000000|\n",
       "|1603694755|    1|2001|    LG Gram| 1800000|\n",
       "|1603673500|    2|2002|    LG Cyon| 1400000|\n",
       "|1603652155|    3|2003|      LG TV| 1000000|\n",
       "|1603674500|    4|2004|LG Computer| 4500000|\n",
       "|1603665955|    5|2001|    LG Gram| 3500000|\n",
       "|1603666155|    5|2003|      LG TV| 2500000|\n",
       "+----------+-----+----+-----------+--------+"
      ]
     },
     "metadata": {},
     "output_type": "display_data"
    },
    {
     "name": "stdout",
     "output_type": "stream",
     "text": [
      "root\n",
      " |-- u_id: integer (nullable = true)\n",
      " |-- u_gender: string (nullable = true)\n",
      " |-- u_register: integer (nullable = true)\n",
      " |-- u_family_name: string (nullable = true)\n",
      " |-- u_given_name: string (nullable = true)\n",
      " |-- p_time: integer (nullable = true)\n",
      " |-- p_uid: integer (nullable = true)\n",
      " |-- p_id: integer (nullable = true)\n",
      " |-- p_name: string (nullable = true)\n",
      " |-- p_amount: integer (nullable = true)\n",
      "\n"
     ]
    },
    {
     "data": {
      "text/html": [
       "<table border='1'>\n",
       "<tr><th>u_id</th><th>u_gender</th><th>u_register</th><th>u_family_name</th><th>u_given_name</th><th>p_time</th><th>p_uid</th><th>p_id</th><th>p_name</th><th>p_amount</th></tr>\n",
       "<tr><td>1</td><td>남</td><td>19700808</td><td>정</td><td>휘센</td><td>1603694755</td><td>1</td><td>2001</td><td>LG Gram</td><td>1800000</td></tr>\n",
       "<tr><td>1</td><td>남</td><td>19700808</td><td>정</td><td>휘센</td><td>1603651550</td><td>1</td><td>2000</td><td>LG DIOS</td><td>2000000</td></tr>\n",
       "<tr><td>2</td><td>남</td><td>19710201</td><td>김</td><td>싸이언</td><td>1603673500</td><td>2</td><td>2002</td><td>LG Cyon</td><td>1400000</td></tr>\n",
       "<tr><td>3</td><td>여</td><td>19951030</td><td>박</td><td>트롬</td><td>1603652155</td><td>3</td><td>2003</td><td>LG TV</td><td>1000000</td></tr>\n",
       "<tr><td>4</td><td>남</td><td>19770329</td><td>청</td><td>소기</td><td>1603674500</td><td>4</td><td>2004</td><td>LG Computer</td><td>4500000</td></tr>\n",
       "<tr><td>5</td><td>여</td><td>20021029</td><td>유</td><td>코드제로</td><td>1603666155</td><td>5</td><td>2003</td><td>LG TV</td><td>2500000</td></tr>\n",
       "<tr><td>5</td><td>여</td><td>20021029</td><td>유</td><td>코드제로</td><td>1603665955</td><td>5</td><td>2001</td><td>LG Gram</td><td>3500000</td></tr>\n",
       "<tr><td>6</td><td>남</td><td>20040101</td><td>윤</td><td>디오스</td><td>null</td><td>null</td><td>null</td><td>null</td><td>null</td></tr>\n",
       "<tr><td>7</td><td>남</td><td>20040807</td><td>임</td><td>모바일</td><td>null</td><td>null</td><td>null</td><td>null</td><td>null</td></tr>\n",
       "<tr><td>8</td><td>여</td><td>20161201</td><td>조</td><td>노트북</td><td>null</td><td>null</td><td>null</td><td>null</td><td>null</td></tr>\n",
       "<tr><td>9</td><td>남</td><td>20201124</td><td>최</td><td>컴퓨터</td><td>null</td><td>null</td><td>null</td><td>null</td><td>null</td></tr>\n",
       "</table>\n"
      ],
      "text/plain": [
       "+----+--------+----------+-------------+------------+----------+-----+----+-----------+--------+\n",
       "|u_id|u_gender|u_register|u_family_name|u_given_name|    p_time|p_uid|p_id|     p_name|p_amount|\n",
       "+----+--------+----------+-------------+------------+----------+-----+----+-----------+--------+\n",
       "|   1|      남|  19700808|           정|        휘센|1603694755|    1|2001|    LG Gram| 1800000|\n",
       "|   1|      남|  19700808|           정|        휘센|1603651550|    1|2000|    LG DIOS| 2000000|\n",
       "|   2|      남|  19710201|           김|      싸이언|1603673500|    2|2002|    LG Cyon| 1400000|\n",
       "|   3|      여|  19951030|           박|        트롬|1603652155|    3|2003|      LG TV| 1000000|\n",
       "|   4|      남|  19770329|           청|        소기|1603674500|    4|2004|LG Computer| 4500000|\n",
       "|   5|      여|  20021029|           유|    코드제로|1603666155|    5|2003|      LG TV| 2500000|\n",
       "|   5|      여|  20021029|           유|    코드제로|1603665955|    5|2001|    LG Gram| 3500000|\n",
       "|   6|      남|  20040101|           윤|      디오스|      null| null|null|       null|    null|\n",
       "|   7|      남|  20040807|           임|      모바일|      null| null|null|       null|    null|\n",
       "|   8|      여|  20161201|           조|      노트북|      null| null|null|       null|    null|\n",
       "|   9|      남|  20201124|           최|      컴퓨터|      null| null|null|       null|    null|\n",
       "+----+--------+----------+-------------+------------+----------+-----+----+-----------+--------+"
      ]
     },
     "metadata": {},
     "output_type": "display_data"
    }
   ],
   "source": [
    "tbl_purchase = spark.read.option(\"inferSchema\", \"true\").option(\"header\", \"true\").csv(f\"{work_data}/tbl_purchase.csv\")\n",
    "tbl_purchase.printSchema()\n",
    "display(tbl_purchase)\n",
    "\n",
    "fact_daily = tbl_user.join(tbl_purchase, tbl_user.u_id == tbl_purchase.p_uid, \"left_outer\")\n",
    "fact_daily.printSchema()\n",
    "display(fact_daily)"
   ]
  },
  {
   "cell_type": "markdown",
   "id": "3438c7e5-af1d-4a6a-8d61-f503ee6f9033",
   "metadata": {},
   "source": [
    "### 퀴즈 4. fact_daily 데이터를 na 함수를 써서 매출 정보가 널인 경우는 아래의 조건에 맞게 변경하고 fact_daily_na 변수에 담아서 데이터를 출력하세요\n",
    "* p_time : 0\n",
    "* p_uid : 0\n",
    "* p_name : \"미확인\"\n",
    "* p_amount : 0"
   ]
  },
  {
   "cell_type": "code",
   "execution_count": 6,
   "id": "f22bb41b-24f2-41d4-a234-30bcf37d3bb4",
   "metadata": {},
   "outputs": [
    {
     "name": "stdout",
     "output_type": "stream",
     "text": [
      "root\n",
      " |-- u_id: integer (nullable = true)\n",
      " |-- u_gender: string (nullable = true)\n",
      " |-- u_register: integer (nullable = true)\n",
      " |-- u_family_name: string (nullable = true)\n",
      " |-- u_given_name: string (nullable = true)\n",
      " |-- p_time: integer (nullable = false)\n",
      " |-- p_uid: integer (nullable = false)\n",
      " |-- p_id: integer (nullable = true)\n",
      " |-- p_name: string (nullable = false)\n",
      " |-- p_amount: integer (nullable = false)\n",
      "\n"
     ]
    },
    {
     "data": {
      "text/html": [
       "<table border='1'>\n",
       "<tr><th>u_id</th><th>u_gender</th><th>u_register</th><th>u_family_name</th><th>u_given_name</th><th>p_time</th><th>p_uid</th><th>p_id</th><th>p_name</th><th>p_amount</th></tr>\n",
       "<tr><td>1</td><td>남</td><td>19700808</td><td>정</td><td>휘센</td><td>1603694755</td><td>1</td><td>2001</td><td>LG Gram</td><td>1800000</td></tr>\n",
       "<tr><td>1</td><td>남</td><td>19700808</td><td>정</td><td>휘센</td><td>1603651550</td><td>1</td><td>2000</td><td>LG DIOS</td><td>2000000</td></tr>\n",
       "<tr><td>2</td><td>남</td><td>19710201</td><td>김</td><td>싸이언</td><td>1603673500</td><td>2</td><td>2002</td><td>LG Cyon</td><td>1400000</td></tr>\n",
       "<tr><td>3</td><td>여</td><td>19951030</td><td>박</td><td>트롬</td><td>1603652155</td><td>3</td><td>2003</td><td>LG TV</td><td>1000000</td></tr>\n",
       "<tr><td>4</td><td>남</td><td>19770329</td><td>청</td><td>소기</td><td>1603674500</td><td>4</td><td>2004</td><td>LG Computer</td><td>4500000</td></tr>\n",
       "<tr><td>5</td><td>여</td><td>20021029</td><td>유</td><td>코드제로</td><td>1603666155</td><td>5</td><td>2003</td><td>LG TV</td><td>2500000</td></tr>\n",
       "<tr><td>5</td><td>여</td><td>20021029</td><td>유</td><td>코드제로</td><td>1603665955</td><td>5</td><td>2001</td><td>LG Gram</td><td>3500000</td></tr>\n",
       "<tr><td>6</td><td>남</td><td>20040101</td><td>윤</td><td>디오스</td><td>0</td><td>0</td><td>null</td><td>미확인</td><td>0</td></tr>\n",
       "<tr><td>7</td><td>남</td><td>20040807</td><td>임</td><td>모바일</td><td>0</td><td>0</td><td>null</td><td>미확인</td><td>0</td></tr>\n",
       "<tr><td>8</td><td>여</td><td>20161201</td><td>조</td><td>노트북</td><td>0</td><td>0</td><td>null</td><td>미확인</td><td>0</td></tr>\n",
       "<tr><td>9</td><td>남</td><td>20201124</td><td>최</td><td>컴퓨터</td><td>0</td><td>0</td><td>null</td><td>미확인</td><td>0</td></tr>\n",
       "</table>\n"
      ],
      "text/plain": [
       "+----+--------+----------+-------------+------------+----------+-----+----+-----------+--------+\n",
       "|u_id|u_gender|u_register|u_family_name|u_given_name|    p_time|p_uid|p_id|     p_name|p_amount|\n",
       "+----+--------+----------+-------------+------------+----------+-----+----+-----------+--------+\n",
       "|   1|      남|  19700808|           정|        휘센|1603694755|    1|2001|    LG Gram| 1800000|\n",
       "|   1|      남|  19700808|           정|        휘센|1603651550|    1|2000|    LG DIOS| 2000000|\n",
       "|   2|      남|  19710201|           김|      싸이언|1603673500|    2|2002|    LG Cyon| 1400000|\n",
       "|   3|      여|  19951030|           박|        트롬|1603652155|    3|2003|      LG TV| 1000000|\n",
       "|   4|      남|  19770329|           청|        소기|1603674500|    4|2004|LG Computer| 4500000|\n",
       "|   5|      여|  20021029|           유|    코드제로|1603666155|    5|2003|      LG TV| 2500000|\n",
       "|   5|      여|  20021029|           유|    코드제로|1603665955|    5|2001|    LG Gram| 3500000|\n",
       "|   6|      남|  20040101|           윤|      디오스|         0|    0|null|     미확인|       0|\n",
       "|   7|      남|  20040807|           임|      모바일|         0|    0|null|     미확인|       0|\n",
       "|   8|      여|  20161201|           조|      노트북|         0|    0|null|     미확인|       0|\n",
       "|   9|      남|  20201124|           최|      컴퓨터|         0|    0|null|     미확인|       0|\n",
       "+----+--------+----------+-------------+------------+----------+-----+----+-----------+--------+"
      ]
     },
     "metadata": {},
     "output_type": "display_data"
    }
   ],
   "source": [
    "na_fill = {\n",
    "    \"p_time\":0,\n",
    "    \"p_uid\":0,\n",
    "    \"p_name\":\"미확인\",\n",
    "    \"p_amount\":0\n",
    "}\n",
    "\n",
    "fact_daily_na = fact_daily.na.fill(na_fill)\n",
    "fact_daily_na.printSchema()\n",
    "display(fact_daily_na)"
   ]
  },
  {
   "cell_type": "markdown",
   "id": "207b24ef-f983-477d-bb8e-f8a5dc898fd4",
   "metadata": {},
   "source": [
    "### 퀴즈 5. fact_daily_na 데이터프레임을 이용하여 성별 매출 금액의 합계를 출력하세요\n",
    "* 결과 스키마 : u_gender, count"
   ]
  },
  {
   "cell_type": "code",
   "execution_count": 7,
   "id": "0ea7046d-471c-48b1-aa7a-ac4a70a08490",
   "metadata": {},
   "outputs": [
    {
     "data": {
      "text/html": [
       "<table border='1'>\n",
       "<tr><th>u_gender</th><th>sum</th></tr>\n",
       "<tr><td>여</td><td>7000000</td></tr>\n",
       "<tr><td>남</td><td>9700000</td></tr>\n",
       "</table>\n"
      ],
      "text/plain": [
       "+--------+-------+\n",
       "|u_gender|    sum|\n",
       "+--------+-------+\n",
       "|      여|7000000|\n",
       "|      남|9700000|\n",
       "+--------+-------+"
      ]
     },
     "metadata": {},
     "output_type": "display_data"
    }
   ],
   "source": [
    "count_by_gender = fact_daily_na.groupBy(\"u_gender\").agg(sum(\"p_amount\").alias(\"sum\"))\n",
    "display(count_by_gender)"
   ]
  },
  {
   "cell_type": "markdown",
   "id": "f91e1c97-8f69-4834-a873-73085f2c1933",
   "metadata": {},
   "source": [
    "### 퀴즈 6. fact_daily_na 데이터를 json 포맷으로 저장 후, 다시 읽어서 fact_daily_json 변수에 담아 스키마와 데이터를 출력하세요\n",
    "* 저장 경로 : `data/fact_daily_na/dt=20220727` \n",
    "* 저장 포맷 : json\n",
    "* 저장 옵션 : 덮어쓰기(overwrite)"
   ]
  },
  {
   "cell_type": "code",
   "execution_count": 8,
   "id": "9bc5f0c6-a07f-4ffb-a8d8-e1b9916a521e",
   "metadata": {},
   "outputs": [
    {
     "name": "stdout",
     "output_type": "stream",
     "text": [
      "root\n",
      " |-- p_amount: long (nullable = true)\n",
      " |-- p_id: long (nullable = true)\n",
      " |-- p_name: string (nullable = true)\n",
      " |-- p_time: long (nullable = true)\n",
      " |-- p_uid: long (nullable = true)\n",
      " |-- u_family_name: string (nullable = true)\n",
      " |-- u_gender: string (nullable = true)\n",
      " |-- u_given_name: string (nullable = true)\n",
      " |-- u_id: long (nullable = true)\n",
      " |-- u_register: long (nullable = true)\n",
      "\n"
     ]
    },
    {
     "data": {
      "text/html": [
       "<table border='1'>\n",
       "<tr><th>p_amount</th><th>p_id</th><th>p_name</th><th>p_time</th><th>p_uid</th><th>u_family_name</th><th>u_gender</th><th>u_given_name</th><th>u_id</th><th>u_register</th></tr>\n",
       "<tr><td>1800000</td><td>2001</td><td>LG Gram</td><td>1603694755</td><td>1</td><td>정</td><td>남</td><td>휘센</td><td>1</td><td>19700808</td></tr>\n",
       "<tr><td>2000000</td><td>2000</td><td>LG DIOS</td><td>1603651550</td><td>1</td><td>정</td><td>남</td><td>휘센</td><td>1</td><td>19700808</td></tr>\n",
       "<tr><td>1400000</td><td>2002</td><td>LG Cyon</td><td>1603673500</td><td>2</td><td>김</td><td>남</td><td>싸이언</td><td>2</td><td>19710201</td></tr>\n",
       "<tr><td>1000000</td><td>2003</td><td>LG TV</td><td>1603652155</td><td>3</td><td>박</td><td>여</td><td>트롬</td><td>3</td><td>19951030</td></tr>\n",
       "<tr><td>4500000</td><td>2004</td><td>LG Computer</td><td>1603674500</td><td>4</td><td>청</td><td>남</td><td>소기</td><td>4</td><td>19770329</td></tr>\n",
       "<tr><td>2500000</td><td>2003</td><td>LG TV</td><td>1603666155</td><td>5</td><td>유</td><td>여</td><td>코드제로</td><td>5</td><td>20021029</td></tr>\n",
       "<tr><td>3500000</td><td>2001</td><td>LG Gram</td><td>1603665955</td><td>5</td><td>유</td><td>여</td><td>코드제로</td><td>5</td><td>20021029</td></tr>\n",
       "<tr><td>0</td><td>null</td><td>미확인</td><td>0</td><td>0</td><td>윤</td><td>남</td><td>디오스</td><td>6</td><td>20040101</td></tr>\n",
       "<tr><td>0</td><td>null</td><td>미확인</td><td>0</td><td>0</td><td>임</td><td>남</td><td>모바일</td><td>7</td><td>20040807</td></tr>\n",
       "<tr><td>0</td><td>null</td><td>미확인</td><td>0</td><td>0</td><td>조</td><td>여</td><td>노트북</td><td>8</td><td>20161201</td></tr>\n",
       "<tr><td>0</td><td>null</td><td>미확인</td><td>0</td><td>0</td><td>최</td><td>남</td><td>컴퓨터</td><td>9</td><td>20201124</td></tr>\n",
       "</table>\n"
      ],
      "text/plain": [
       "+--------+----+-----------+----------+-----+-------------+--------+------------+----+----------+\n",
       "|p_amount|p_id|     p_name|    p_time|p_uid|u_family_name|u_gender|u_given_name|u_id|u_register|\n",
       "+--------+----+-----------+----------+-----+-------------+--------+------------+----+----------+\n",
       "| 1800000|2001|    LG Gram|1603694755|    1|           정|      남|        휘센|   1|  19700808|\n",
       "| 2000000|2000|    LG DIOS|1603651550|    1|           정|      남|        휘센|   1|  19700808|\n",
       "| 1400000|2002|    LG Cyon|1603673500|    2|           김|      남|      싸이언|   2|  19710201|\n",
       "| 1000000|2003|      LG TV|1603652155|    3|           박|      여|        트롬|   3|  19951030|\n",
       "| 4500000|2004|LG Computer|1603674500|    4|           청|      남|        소기|   4|  19770329|\n",
       "| 2500000|2003|      LG TV|1603666155|    5|           유|      여|    코드제로|   5|  20021029|\n",
       "| 3500000|2001|    LG Gram|1603665955|    5|           유|      여|    코드제로|   5|  20021029|\n",
       "|       0|null|     미확인|         0|    0|           윤|      남|      디오스|   6|  20040101|\n",
       "|       0|null|     미확인|         0|    0|           임|      남|      모바일|   7|  20040807|\n",
       "|       0|null|     미확인|         0|    0|           조|      여|      노트북|   8|  20161201|\n",
       "|       0|null|     미확인|         0|    0|           최|      남|      컴퓨터|   9|  20201124|\n",
       "+--------+----+-----------+----------+-----+-------------+--------+------------+----+----------+"
      ]
     },
     "metadata": {},
     "output_type": "display_data"
    }
   ],
   "source": [
    "json_path = f\"{work_data}/fact_daily/dt=20220727\"\n",
    "fact_daily_na.write.mode(\"overwrite\").json(json_path)\n",
    "fact_daily_json = spark.read.json(json_path)\n",
    "fact_daily_json.printSchema()\n",
    "display(fact_daily_json)"
   ]
  },
  {
   "cell_type": "markdown",
   "id": "36b0c625-fc6e-4968-a540-2da17b59a276",
   "metadata": {},
   "source": [
    "### 퀴즈 7. fact_daily_json 데이터를 상품별 매출 금액의 합계를 구하고 최대 매출 상품이름을 확인하세요\n",
    "* 결과 스키마 : p_name, amount"
   ]
  },
  {
   "cell_type": "code",
   "execution_count": 9,
   "id": "ba39da6a-e947-4ec9-89d6-6533938c8203",
   "metadata": {},
   "outputs": [
    {
     "data": {
      "text/html": [
       "<table border='1'>\n",
       "<tr><th>p_name</th><th>sum</th></tr>\n",
       "<tr><td>LG Gram</td><td>5300000</td></tr>\n",
       "</table>\n"
      ],
      "text/plain": [
       "+-------+-------+\n",
       "| p_name|    sum|\n",
       "+-------+-------+\n",
       "|LG Gram|5300000|\n",
       "+-------+-------+"
      ]
     },
     "metadata": {},
     "output_type": "display_data"
    }
   ],
   "source": [
    "structured_fact = (\n",
    "    fact_daily_json\n",
    "    .groupBy(\"p_name\").agg(sum(\"p_amount\").alias(\"sum\"))\n",
    "    .orderBy(desc(\"sum\")).limit(1)\n",
    ")\n",
    "display(structured_fact)"
   ]
  },
  {
   "cell_type": "markdown",
   "id": "079e77c0-0e92-42cd-8ad8-86ca81f42e87",
   "metadata": {},
   "source": [
    "### 퀴즈 8. '퀴즈 7'을 SparkSQL 방식으로 결과를 출력하세요, 이미 SparkSQL 방식으로 풀었다면 Structured API 방식으로 작성하세요\n",
    "* 결과 스키마 : p_name, amount"
   ]
  },
  {
   "cell_type": "code",
   "execution_count": 10,
   "id": "d51e0631-fbde-4fa6-ba95-7d23bb60763a",
   "metadata": {},
   "outputs": [
    {
     "data": {
      "text/html": [
       "<table border='1'>\n",
       "<tr><th>p_name</th><th>sum</th></tr>\n",
       "<tr><td>LG Gram</td><td>5300000</td></tr>\n",
       "</table>\n"
      ],
      "text/plain": [
       "+-------+-------+\n",
       "| p_name|    sum|\n",
       "+-------+-------+\n",
       "|LG Gram|5300000|\n",
       "+-------+-------+"
      ]
     },
     "metadata": {},
     "output_type": "display_data"
    }
   ],
   "source": [
    "fact_daily_json.createOrReplaceTempView(\"fact_daily_json\")\n",
    "no_1_product_query = \"\"\"\n",
    "select p_name, sum(p_amount) as sum\n",
    "from fact_daily_json\n",
    "group by p_name\n",
    "order by sum desc\n",
    "limit 1\n",
    "\"\"\"\n",
    "no_1_product = spark.sql(no_1_product_query)\n",
    "display(no_1_product)"
   ]
  },
  {
   "cell_type": "code",
   "execution_count": null,
   "id": "78c4c10d-47f2-4b3b-b90a-8d35cae09ebc",
   "metadata": {},
   "outputs": [],
   "source": []
  }
 ],
 "metadata": {
  "kernelspec": {
   "display_name": "Python 3 (ipykernel)",
   "language": "python",
   "name": "python3"
  },
  "language_info": {
   "codemirror_mode": {
    "name": "ipython",
    "version": 3
   },
   "file_extension": ".py",
   "mimetype": "text/x-python",
   "name": "python",
   "nbconvert_exporter": "python",
   "pygments_lexer": "ipython3",
   "version": "3.9.6"
  }
 },
 "nbformat": 4,
 "nbformat_minor": 5
}
