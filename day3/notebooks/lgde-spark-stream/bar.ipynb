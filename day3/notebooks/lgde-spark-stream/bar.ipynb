{
 "cells": [
  {
   "cell_type": "code",
   "execution_count": 1,
   "id": "caa4196b-2047-48cb-a87c-df631db0efbe",
   "metadata": {},
   "outputs": [
    {
     "name": "stderr",
     "output_type": "stream",
     "text": [
      "21/10/26 13:55:04 WARN NativeCodeLoader: Unable to load native-hadoop library for your platform... using builtin-java classes where applicable\n",
      "Using Spark's default log4j profile: org/apache/spark/log4j-defaults.properties\n",
      "Setting default log level to \"WARN\".\n",
      "To adjust logging level use sc.setLogLevel(newLevel). For SparkR, use setLogLevel(newLevel).\n",
      "21/10/26 13:55:06 WARN Utils: Service 'SparkUI' could not bind on port 4040. Attempting port 4041.\n"
     ]
    },
    {
     "data": {
      "text/html": [
       "\n",
       "            <div>\n",
       "                <p><b>SparkSession - in-memory</b></p>\n",
       "                \n",
       "        <div>\n",
       "            <p><b>SparkContext</b></p>\n",
       "\n",
       "            <p><a href=\"http://d7d09310482b:4041\">Spark UI</a></p>\n",
       "\n",
       "            <dl>\n",
       "              <dt>Version</dt>\n",
       "                <dd><code>v3.1.2</code></dd>\n",
       "              <dt>Master</dt>\n",
       "                <dd><code>local[*]</code></dd>\n",
       "              <dt>AppName</dt>\n",
       "                <dd><code>pyspark-shell</code></dd>\n",
       "            </dl>\n",
       "        </div>\n",
       "        \n",
       "            </div>\n",
       "        "
      ],
      "text/plain": [
       "<pyspark.sql.session.SparkSession at 0x7fc3db24f3d0>"
      ]
     },
     "execution_count": 1,
     "metadata": {},
     "output_type": "execute_result"
    }
   ],
   "source": [
    "from pyspark.sql import *\n",
    "from pyspark.sql.functions import *\n",
    "from pyspark.sql.types import *\n",
    "from IPython.display import display, display_pretty, clear_output, JSON\n",
    "\n",
    "spark = (\n",
    "    SparkSession\n",
    "    .builder\n",
    "    .config(\"spark.sql.session.timeZone\", \"Asia/Seoul\")\n",
    "    .getOrCreate()\n",
    ")\n",
    "\n",
    "# 노트북에서 테이블 형태로 데이터 프레임 출력을 위한 설정을 합니다\n",
    "spark.conf.set(\"spark.sql.repl.eagerEval.enabled\", True) # display enabled\n",
    "spark.conf.set(\"spark.sql.repl.eagerEval.truncate\", 100) # display output columns size\n",
    "\n",
    "# 공통 데이터 위치\n",
    "home_jovyan = \"/home/jovyan\"\n",
    "work_data = f\"{home_jovyan}/work/data\"\n",
    "work_dir=!pwd\n",
    "work_dir = work_dir[0]\n",
    "\n",
    "# 로컬 환경 최적화\n",
    "spark.conf.set(\"spark.sql.shuffle.partitions\", 5) # the number of partitions to use when shuffling data for joins or aggregations.\n",
    "spark.conf.set(\"spark.sql.streaming.forceDeleteTempCheckpointLocation\", \"true\")\n",
    "\n",
    "# 현재 기동된 스파크 애플리케이션의 포트를 확인하기 위해 스파크 정보를 출력합니다\n",
    "spark"
   ]
  },
  {
   "cell_type": "code",
   "execution_count": 2,
   "id": "f138fa36-3cb1-4030-ab3a-43b26d601319",
   "metadata": {},
   "outputs": [
    {
     "name": "stderr",
     "output_type": "stream",
     "text": [
      "                                                                                \r"
     ]
    },
    {
     "name": "stdout",
     "output_type": "stream",
     "text": [
      "root\n",
      " |-- age: long (nullable = true)\n",
      " |-- gender: string (nullable = true)\n",
      " |-- reg_dt: string (nullable = true)\n",
      " |-- user_id: long (nullable = true)\n",
      " |-- user_name: string (nullable = true)\n",
      "\n",
      "+---+------+----------------------+-------+----------+\n",
      "|age|gender|                reg_dt|user_id| user_name|\n",
      "+---+------+----------------------+-------+----------+\n",
      "| 10|  남성|2014. 1. 10. 오후 1...|      1|    김엘지|\n",
      "| 11|  여성|2015. 3. 2. 오후 12...|      2|    박전자|\n",
      "| 12|  남성|2018. 7. 30. 오전 0...|      3|  이데이터|\n",
      "| 10|  여성|2013. 3. 18. 오후 1...|      4|홍엔지니어|\n",
      "| 20|  남성|2014. 1. 10. 오후 1...|      1|    김엘지|\n",
      "| 21|  여성|2015. 3. 2. 오후 12...|      2|    박전자|\n",
      "| 22|  남성|2018. 7. 30. 오전 0...|      3|  이데이터|\n",
      "| 20|  여성|2013. 3. 18. 오후 1...|      4|홍엔지니어|\n",
      "+---+------+----------------------+-------+----------+\n",
      "\n",
      "root\n",
      " |-- emp_id: long (nullable = true)\n",
      " |-- emp_name: string (nullable = true)\n",
      " |-- time: string (nullable = true)\n",
      " |-- timestamp: long (nullable = true)\n",
      "\n",
      "+------+----------------+----------------------+----------+\n",
      "|emp_id|        emp_name|                  time| timestamp|\n",
      "+------+----------------+----------------------+----------+\n",
      "|     1|        엘지전자|2016. 3. 20. 오후 1...|1458444054|\n",
      "|     1|        엘지전자|2016. 3. 20. 오후 1...|1458444055|\n",
      "|     1|        엘지전자|2016. 3. 20. 오후 1...|1458444056|\n",
      "|     1|        엘지전자|2016. 3. 20. 오후 3...|1458454057|\n",
      "|     2|        엘지화학|2016. 3. 20. 오후 1...|1458445054|\n",
      "|     3|엘지에너지솔루션|2016. 3. 20. 오전 1...|1458442054|\n",
      "|     4|            엘지|2016. 3. 20. 오후 1...|1458446054|\n",
      "|     4|            엘지|2016. 3. 20. 오후 1...|1458446055|\n",
      "+------+----------------+----------------------+----------+\n",
      "\n",
      "-------------------------------------------\n",
      "Batch: 0\n",
      "-------------------------------------------\n",
      "+------+----------------+----------------------+----------+---+------+----------------------+-------+----------+\n",
      "|emp_id|        emp_name|                  time| timestamp|age|gender|                reg_dt|user_id| user_name|\n",
      "+------+----------------+----------------------+----------+---+------+----------------------+-------+----------+\n",
      "|     1|        엘지전자|2016. 3. 20. 오후 1...|1458444054| 20|  남성|2014. 1. 10. 오후 1...|      1|    김엘지|\n",
      "|     1|        엘지전자|2016. 3. 20. 오후 1...|1458444054| 10|  남성|2014. 1. 10. 오후 1...|      1|    김엘지|\n",
      "|     1|        엘지전자|2016. 3. 20. 오후 1...|1458444055| 20|  남성|2014. 1. 10. 오후 1...|      1|    김엘지|\n",
      "|     1|        엘지전자|2016. 3. 20. 오후 1...|1458444055| 10|  남성|2014. 1. 10. 오후 1...|      1|    김엘지|\n",
      "|     1|        엘지전자|2016. 3. 20. 오후 1...|1458444056| 20|  남성|2014. 1. 10. 오후 1...|      1|    김엘지|\n",
      "|     1|        엘지전자|2016. 3. 20. 오후 1...|1458444056| 10|  남성|2014. 1. 10. 오후 1...|      1|    김엘지|\n",
      "|     1|        엘지전자|2016. 3. 20. 오후 3...|1458454057| 20|  남성|2014. 1. 10. 오후 1...|      1|    김엘지|\n",
      "|     1|        엘지전자|2016. 3. 20. 오후 3...|1458454057| 10|  남성|2014. 1. 10. 오후 1...|      1|    김엘지|\n",
      "|     2|        엘지화학|2016. 3. 20. 오후 1...|1458445054| 21|  여성|2015. 3. 2. 오후 12...|      2|    박전자|\n",
      "|     2|        엘지화학|2016. 3. 20. 오후 1...|1458445054| 11|  여성|2015. 3. 2. 오후 12...|      2|    박전자|\n",
      "|     3|엘지에너지솔루션|2016. 3. 20. 오전 1...|1458442054| 22|  남성|2018. 7. 30. 오전 0...|      3|  이데이터|\n",
      "|     3|엘지에너지솔루션|2016. 3. 20. 오전 1...|1458442054| 12|  남성|2018. 7. 30. 오전 0...|      3|  이데이터|\n",
      "|     4|            엘지|2016. 3. 20. 오후 1...|1458446054| 20|  여성|2013. 3. 18. 오후 1...|      4|홍엔지니어|\n",
      "|     4|            엘지|2016. 3. 20. 오후 1...|1458446054| 10|  여성|2013. 3. 18. 오후 1...|      4|홍엔지니어|\n",
      "|     4|            엘지|2016. 3. 20. 오후 1...|1458446055| 20|  여성|2013. 3. 18. 오후 1...|      4|홍엔지니어|\n",
      "|     4|            엘지|2016. 3. 20. 오후 1...|1458446055| 10|  여성|2013. 3. 18. 오후 1...|      4|홍엔지니어|\n",
      "+------+----------------+----------------------+----------+---+------+----------------------+-------+----------+\n",
      "\n"
     ]
    }
   ],
   "source": [
    "queryName = \"staticJoin\"\n",
    "checkpointLocation = f\"{work_dir}/tmp/{queryName}\"\n",
    "!rm -rf $checkpointLocation\n",
    "\n",
    "userPath = f\"{work_dir}/data/user-static\"\n",
    "userStatic = spark.read.json(userPath) # .where(expr(\"age > 10\")) 이러한 필터 조건이 들어가면 정적 테이블 조인이 안되는 현상 발생\n",
    "userStatic.printSchema()\n",
    "userStatic.show()\n",
    "\n",
    "logsPath = f\"{work_dir}/data/tumbling-stream\"\n",
    "logsStream = spark.read.json(logsPath)\n",
    "logsStream.printSchema()\n",
    "logsStream.show()\n",
    "logsSchema = (\n",
    "    StructType()\n",
    "    .add(StructField(\"emp_id\", LongType()))\n",
    "    .add(StructField(\"emp_name\", StringType()))\n",
    "    .add(StructField(\"time\", StringType()))\n",
    "    .add(StructField(\"timestamp\", LongType()))\n",
    ")\n",
    "logsStream = spark.readStream.format(\"json\").schema(logsSchema).load(logsPath)\n",
    "\n",
    "joinExpression = (logsStream.emp_id == userStatic.user_id)\n",
    "staticSelector = logsStream.join(userStatic, joinExpression, \"leftOuter\")\n",
    "staticWriter = staticSelector.writeStream.format(\"console\").outputMode(\"append\")\n",
    "staticTrigger = staticWriter.trigger(processingTime=\"5 second\").option(\"checkpointLocation\", checkpointLocation)\n",
    "\n",
    "staticQuery = staticTrigger.start()\n",
    "staticQuery.awaitTermination(10)\n",
    "staticQuery.stop()"
   ]
  },
  {
   "cell_type": "code",
   "execution_count": null,
   "id": "154bb7f1-84a0-4d88-995c-6e0482793b1f",
   "metadata": {},
   "outputs": [],
   "source": []
  }
 ],
 "metadata": {
  "kernelspec": {
   "display_name": "Python 3 (ipykernel)",
   "language": "python",
   "name": "python3"
  },
  "language_info": {
   "codemirror_mode": {
    "name": "ipython",
    "version": 3
   },
   "file_extension": ".py",
   "mimetype": "text/x-python",
   "name": "python",
   "nbconvert_exporter": "python",
   "pygments_lexer": "ipython3",
   "version": "3.9.6"
  }
 },
 "nbformat": 4,
 "nbformat_minor": 5
}
