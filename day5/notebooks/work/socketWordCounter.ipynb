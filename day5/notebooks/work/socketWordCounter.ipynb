{
 "cells": [
  {
   "cell_type": "code",
   "execution_count": null,
   "id": "adc76215-392c-4360-9ead-5da1689e775e",
   "metadata": {},
   "outputs": [],
   "source": [
    "from pyspark.sql import *\n",
    "from pyspark.sql.functions import *\n",
    "from pyspark.sql.types import *\n",
    "from IPython.display import display, display_pretty, clear_output, JSON\n",
    "\n",
    "spark = (\n",
    "    SparkSession\n",
    "    .builder\n",
    "    .config(\"spark.sql.session.timeZone\", \"Asia/Seoul\")\n",
    "    .getOrCreate()\n",
    ")\n",
    "\n",
    "# 노트북에서 테이블 형태로 데이터 프레임 출력을 위한 설정을 합니다\n",
    "spark.conf.set(\"spark.sql.repl.eagerEval.enabled\", True) # display enabled\n",
    "spark.conf.set(\"spark.sql.repl.eagerEval.truncate\", 100) # display output columns size\n",
    "\n",
    "# 공통 데이터 위치\n",
    "home_jovyan = \"/home/jovyan\"\n",
    "work_data = f\"{home_jovyan}/work/data\"\n",
    "work_dir=!pwd\n",
    "work_dir = work_dir[0]\n",
    "\n",
    "# 로컬 환경 최적화\n",
    "spark.conf.set(\"spark.sql.shuffle.partitions\", 5) # the number of partitions to use when shuffling data for joins or aggregations.\n",
    "spark.conf.set(\"spark.sql.streaming.forceDeleteTempCheckpointLocation\", \"true\")\n",
    "\n",
    "# 현재 기동된 스파크 애플리케이션의 포트를 확인하기 위해 스파크 정보를 출력합니다\n",
    "spark"
   ]
  },
  {
   "cell_type": "code",
   "execution_count": null,
   "id": "7227f346-b651-47d7-a0e4-29ad5a665a7a",
   "metadata": {},
   "outputs": [],
   "source": [
    "# 스트림 테이블을 주기적으로 조회하는 함수 (name: 이름, sql: Spark SQL, iterations: 반복횟수, sleep_secs: 인터벌)\n",
    "def displayStream(name, sql, iterations, sleep_secs):\n",
    "    from time import sleep\n",
    "    i = 1\n",
    "    for x in range(iterations):\n",
    "        clear_output(wait=True)              # 출력 Cell 을 지웁니다\n",
    "        display('[' + name + '] Iteration: '+str(i)+', Query: '+sql)\n",
    "        display(spark.sql(sql))              # Spark SQL 을 수행합니다\n",
    "        sleep(sleep_secs)                    # sleep_secs 초 만큼 대기합니다\n",
    "        i += 1\n",
    "\n",
    "# 스트림 쿼리의 상태를 주기적으로 조회하는 함수 (name: 이름, query: Streaming Query, iterations: 반복횟수, sleep_secs: 인터벌)\n",
    "def displayStatus(name, query, iterations, sleep_secs):\n",
    "    from time import sleep\n",
    "    i = 1\n",
    "    for x in range(iterations):\n",
    "        clear_output(wait=True)      # Output Cell 의 내용을 지웁니다\n",
    "        display('[' + name + '] Iteration: '+str(i)+', Status: '+query.status['message'])\n",
    "        display(query.lastProgress)  # 마지막 수행된 쿼리의 상태를 출력합니다\n",
    "        sleep(sleep_secs)            # 지정된 시간(초)을 대기합니다\n",
    "        i += 1"
   ]
  },
  {
   "cell_type": "code",
   "execution_count": null,
   "id": "e9f69d4d-b8e5-4408-9368-74e138c7a3d9",
   "metadata": {},
   "outputs": [],
   "source": [
    "# 소켓 서버를 통해 워드 카운트 예제 생성\n",
    "socketReader = (\n",
    "    spark\n",
    "    .readStream\n",
    "    .format(\"socket\")\n",
    "    .option(\"host\", \"localhost\")\n",
    "    .option(\"port\", 9999)\n",
    "    .load()\n",
    ")\n",
    "\n",
    "socketCounter = (\n",
    "    socketReader\n",
    "    .select(\n",
    "        explode(\n",
    "            split(col(\"value\"), \"\\s\")\n",
    "        ).alias(\"word\")\n",
    "    )\n",
    "    .groupBy(\"word\")\n",
    "    .count().alias(\"count\")\n",
    ")"
   ]
  },
  {
   "cell_type": "markdown",
   "id": "c2e75ab3-8de3-42c7-a95e-dabe653c59ea",
   "metadata": {
    "tags": []
   },
   "source": [
    "### 소켓 입력을 화면으로 출력하는 경우"
   ]
  },
  {
   "cell_type": "code",
   "execution_count": null,
   "id": "d0e6f399-87b3-4f1f-9e75-701bf95720c9",
   "metadata": {},
   "outputs": [],
   "source": [
    "socketWriter = (\n",
    "    socketCounter\n",
    "    .writeStream\n",
    "    .format(\"memory\")\n",
    "    .outputMode(\"complete\")\n",
    ")\n",
    "\n",
    "queryName = \"socketWordCounterSource\"\n",
    "socketCheckpointLocation=f\"{work_dir}/tmp/{queryName}\"\n",
    "socketTrigger = (\n",
    "    socketWriter\n",
    "    .queryName(queryName)\n",
    "    .trigger(processingTime=\"1 second\")\n",
    "    .option(\"checkpointLocation\", socketCheckpointLocation)\n",
    ")"
   ]
  },
  {
   "cell_type": "code",
   "execution_count": null,
   "id": "64d1e866-f423-48f2-91a2-e6097d31494f",
   "metadata": {},
   "outputs": [],
   "source": [
    "!rm -r $socketCheckpointLocation\n",
    "socketQuery = socketTrigger.start()"
   ]
  },
  {
   "cell_type": "code",
   "execution_count": null,
   "id": "a245ced5-1cd9-4275-9d79-dd7941437d78",
   "metadata": {},
   "outputs": [],
   "source": [
    "# socketQuery.awaitTermination(60)\n",
    "displayStream(queryName, f\"select * from {queryName}\", 10, 3)\n",
    "socketQuery.stop()"
   ]
  },
  {
   "cell_type": "code",
   "execution_count": null,
   "id": "b50b97c4-1960-43f0-8d7c-9e466051fe35",
   "metadata": {},
   "outputs": [],
   "source": []
  }
 ],
 "metadata": {
  "kernelspec": {
   "display_name": "Python 3 (ipykernel)",
   "language": "python",
   "name": "python3"
  },
  "language_info": {
   "codemirror_mode": {
    "name": "ipython",
    "version": 3
   },
   "file_extension": ".py",
   "mimetype": "text/x-python",
   "name": "python",
   "nbconvert_exporter": "python",
   "pygments_lexer": "ipython3",
   "version": "3.9.12"
  }
 },
 "nbformat": 4,
 "nbformat_minor": 5
}
