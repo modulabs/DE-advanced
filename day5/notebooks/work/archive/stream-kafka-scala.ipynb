{
 "cells": [
  {
   "cell_type": "code",
   "execution_count": null,
   "id": "a42d1eb3-bcba-412e-9d48-86b02fb2b3f4",
   "metadata": {},
   "outputs": [
    {
     "data": {
      "text/plain": [
       "Intitializing Scala interpreter ..."
      ]
     },
     "metadata": {},
     "output_type": "display_data"
    }
   ],
   "source": [
    "spark"
   ]
  },
  {
   "cell_type": "code",
   "execution_count": 1,
   "id": "852bb007-b89b-4a21-82d9-d0fd7d4f38fa",
   "metadata": {},
   "outputs": [
    {
     "data": {
      "text/plain": [
       "Intitializing Scala interpreter ..."
      ]
     },
     "metadata": {},
     "output_type": "display_data"
    },
    {
     "data": {
      "text/plain": [
       "Spark Web UI available at http://54cdf564c8c1:4041\n",
       "SparkContext available as 'sc' (version = 3.2.1, master = local[*], app id = local-1657959006112)\n",
       "SparkSession available as 'spark'\n"
      ]
     },
     "metadata": {},
     "output_type": "display_data"
    },
    {
     "name": "stdout",
     "output_type": "stream",
     "text": [
      "root\n",
      " |-- key: binary (nullable = true)\n",
      " |-- value: binary (nullable = true)\n",
      " |-- topic: string (nullable = true)\n",
      " |-- partition: integer (nullable = true)\n",
      " |-- offset: long (nullable = true)\n",
      " |-- timestamp: timestamp (nullable = true)\n",
      " |-- timestampType: integer (nullable = true)\n",
      "\n"
     ]
    },
    {
     "data": {
      "text/plain": [
       "df: org.apache.spark.sql.DataFrame = [key: binary, value: binary ... 5 more fields]\n",
       "ds: org.apache.spark.sql.streaming.StreamingQuery = org.apache.spark.sql.execution.streaming.StreamingQueryWrapper@f8fbde9\n"
      ]
     },
     "execution_count": 1,
     "metadata": {},
     "output_type": "execute_result"
    },
    {
     "name": "stdout",
     "output_type": "stream",
     "text": [
      "-------------------------------------------\n",
      "Batch: 0\n",
      "-------------------------------------------\n",
      "+----+-------------------------------------------------------------------------------------------------------------------------------------------------------------------+\n",
      "|key |value                                                                                                                                                              |\n",
      "+----+-------------------------------------------------------------------------------------------------------------------------------------------------------------------+\n",
      "|null|{\"movies\":{\"movie\":\"movie\",\"title\":\"title\",\"title_eng\":\"title_eng\",\"year\":0,\"grade\":\"grade\"}}                                                                      |\n",
      "|null|{\"movies\":{\"movie\":\"10001\",\"title\":\"시네마 천국\",\"title_eng\":\"Cinema Paradiso , 1988\",\"year\":2013,\"grade\":\"전체 관람가\"}}                                          |\n",
      "|null|{\"movies\":{\"movie\":\"10002\",\"title\":\"빽 투 더 퓨쳐\",\"title_eng\":\"Back To The Future , 1985\",\"year\":2015,\"grade\":\"12세 관람가\"}}                                     |\n",
      "|null|{\"movies\":{\"movie\":\"10003\",\"title\":\"빽 투 더 퓨쳐 2\",\"title_eng\":\"Back To The Future Part 2 , 1989\",\"year\":2015,\"grade\":\"12세 관람가\"}}                            |\n",
      "|null|{\"movies\":{\"movie\":\"10004\",\"title\":\"빽 투 더 퓨쳐 3\",\"title_eng\":\"Back To The Future Part III , 1990\",\"year\":1990,\"grade\":\"전체 관람가\"}}                          |\n",
      "|null|{\"movies\":{\"movie\":\"10005\",\"title\":\"스타워즈 에피소드 4 - 새로운 희망\",\"title_eng\":\"Star Wars , 1977\",\"year\":1997,\"grade\":\"PG\"}}                                   |\n",
      "|null|{\"movies\":{\"movie\":\"10006\",\"title\":\"스타워즈 에피소드 5 - 제국의 역습\",\"title_eng\":\"Star Wars Episode V: The Empire Strikes Back , 1980\",\"year\":1997,\"grade\":\"PG\"}}|\n",
      "|null|{\"movies\":{\"movie\":\"10007\",\"title\":\"스타워즈 에피소드 6 - 제다이의 귀환\",\"title_eng\":\"Star Wars: Episode VI: Return Of The Jedi , 1983\",\"year\":1997,\"grade\":\"PG\"}} |\n",
      "|null|{\"movies\":{\"movie\":\"10008\",\"title\":\"슈퍼맨\",\"title_eng\":\"Superman , 1978\",\"year\":1979,\"grade\":\"PG\"}}                                                               |\n",
      "|null|{\"movies\":{\"movie\":\"10009\",\"title\":\"슈퍼맨 2\",\"title_eng\":\"Superman II , 1980\",\"year\":1981,\"grade\":\"PG\"}}                                                          |\n",
      "|null|{\"movies\":{\"movie\":\"10010\",\"title\":\"슈퍼맨 3\",\"title_eng\":\"Superman III , 1983\",\"year\":0,\"grade\":\"전체 관람가\"}}                                                   |\n",
      "|null|{\"movies\":{\"movie\":\"10011\",\"title\":\"슈퍼맨 4 - 최강의 적\",\"title_eng\":\"Superman IV: The Quest For Peace , 1987\",\"year\":1990,\"grade\":\"전체 관람가\"}}                |\n",
      "|null|{\"movies\":{\"movie\":\"10012\",\"title\":\"다이 하드\",\"title_eng\":\"Die Hard , 1988\",\"year\":1988,\"grade\":\"15세 관람가\"}}                                                   |\n",
      "|null|{\"movies\":{\"movie\":\"10013\",\"title\":\"킹콩\",\"title_eng\":\"King Kong , 1976\",\"year\":1977,\"grade\":\"12세 관람가\"}}                                                       |\n",
      "|null|{\"movies\":{\"movie\":\"10014\",\"title\":\"금지된 장난\",\"title_eng\":\"Jeux Interdits , Forbidden Games , 1952\",\"year\":1992,\"grade\":\"12세 관람가\"}}                         |\n",
      "|null|{\"movies\":{\"movie\":\"10015\",\"title\":\"타워링\",\"title_eng\":\"The Towering Inferno , 1974\",\"year\":2012,\"grade\":\"PG\"}}                                                   |\n",
      "|null|{\"movies\":{\"movie\":\"10016\",\"title\":\"나 홀로 집에\",\"title_eng\":\"Home Alone , 1990\",\"year\":1991,\"grade\":\"전체 관람가\"}}                                              |\n",
      "|null|{\"movies\":{\"movie\":\"10017\",\"title\":\"셰인\",\"title_eng\":\"Shane , 1953\",\"year\":1956,\"grade\":\"NR\"}}                                                                    |\n",
      "|null|{\"movies\":{\"movie\":\"10018\",\"title\":\"이티\",\"title_eng\":\"The Extra-Terrestrial , E.T. , 1982\",\"year\":2011,\"grade\":\"전체 관람가\"}}                                    |\n",
      "|null|{\"movies\":{\"movie\":\"10019\",\"title\":\"내일을 향해 쏴라\",\"title_eng\":\"Butch Cassidy And The Sundance Kid , 1969\",\"year\":1970,\"grade\":\"15세 관람가\"}}                  |\n",
      "+----+-------------------------------------------------------------------------------------------------------------------------------------------------------------------+\n",
      "only showing top 20 rows\n",
      "\n",
      "-------------------------------------------\n",
      "Batch: 1\n",
      "-------------------------------------------\n",
      "+-----+--------------------------------------------------------------------------------------------------------------------------------------------------------+\n",
      "|key  |value                                                                                                                                                   |\n",
      "+-----+--------------------------------------------------------------------------------------------------------------------------------------------------------+\n",
      "|movie|{\"movie\":\"movie\",\"title\":\"title\",\"title_eng\":\"title_eng\",\"year\":0,\"grade\":\"grade\"}                                                                      |\n",
      "|10001|{\"movie\":\"10001\",\"title\":\"시네마 천국\",\"title_eng\":\"Cinema Paradiso , 1988\",\"year\":2013,\"grade\":\"전체 관람가\"}                                          |\n",
      "|10002|{\"movie\":\"10002\",\"title\":\"빽 투 더 퓨쳐\",\"title_eng\":\"Back To The Future , 1985\",\"year\":2015,\"grade\":\"12세 관람가\"}                                     |\n",
      "|10003|{\"movie\":\"10003\",\"title\":\"빽 투 더 퓨쳐 2\",\"title_eng\":\"Back To The Future Part 2 , 1989\",\"year\":2015,\"grade\":\"12세 관람가\"}                            |\n",
      "|10004|{\"movie\":\"10004\",\"title\":\"빽 투 더 퓨쳐 3\",\"title_eng\":\"Back To The Future Part III , 1990\",\"year\":1990,\"grade\":\"전체 관람가\"}                          |\n",
      "|10005|{\"movie\":\"10005\",\"title\":\"스타워즈 에피소드 4 - 새로운 희망\",\"title_eng\":\"Star Wars , 1977\",\"year\":1997,\"grade\":\"PG\"}                                   |\n",
      "|10006|{\"movie\":\"10006\",\"title\":\"스타워즈 에피소드 5 - 제국의 역습\",\"title_eng\":\"Star Wars Episode V: The Empire Strikes Back , 1980\",\"year\":1997,\"grade\":\"PG\"}|\n",
      "|10007|{\"movie\":\"10007\",\"title\":\"스타워즈 에피소드 6 - 제다이의 귀환\",\"title_eng\":\"Star Wars: Episode VI: Return Of The Jedi , 1983\",\"year\":1997,\"grade\":\"PG\"} |\n",
      "|10008|{\"movie\":\"10008\",\"title\":\"슈퍼맨\",\"title_eng\":\"Superman , 1978\",\"year\":1979,\"grade\":\"PG\"}                                                               |\n",
      "|10009|{\"movie\":\"10009\",\"title\":\"슈퍼맨 2\",\"title_eng\":\"Superman II , 1980\",\"year\":1981,\"grade\":\"PG\"}                                                          |\n",
      "|10010|{\"movie\":\"10010\",\"title\":\"슈퍼맨 3\",\"title_eng\":\"Superman III , 1983\",\"year\":0,\"grade\":\"전체 관람가\"}                                                   |\n",
      "|10011|{\"movie\":\"10011\",\"title\":\"슈퍼맨 4 - 최강의 적\",\"title_eng\":\"Superman IV: The Quest For Peace , 1987\",\"year\":1990,\"grade\":\"전체 관람가\"}                |\n",
      "|10012|{\"movie\":\"10012\",\"title\":\"다이 하드\",\"title_eng\":\"Die Hard , 1988\",\"year\":1988,\"grade\":\"15세 관람가\"}                                                   |\n",
      "|10013|{\"movie\":\"10013\",\"title\":\"킹콩\",\"title_eng\":\"King Kong , 1976\",\"year\":1977,\"grade\":\"12세 관람가\"}                                                       |\n",
      "|10014|{\"movie\":\"10014\",\"title\":\"금지된 장난\",\"title_eng\":\"Jeux Interdits , Forbidden Games , 1952\",\"year\":1992,\"grade\":\"12세 관람가\"}                         |\n",
      "|10015|{\"movie\":\"10015\",\"title\":\"타워링\",\"title_eng\":\"The Towering Inferno , 1974\",\"year\":2012,\"grade\":\"PG\"}                                                   |\n",
      "|10016|{\"movie\":\"10016\",\"title\":\"나 홀로 집에\",\"title_eng\":\"Home Alone , 1990\",\"year\":1991,\"grade\":\"전체 관람가\"}                                              |\n",
      "|10017|{\"movie\":\"10017\",\"title\":\"셰인\",\"title_eng\":\"Shane , 1953\",\"year\":1956,\"grade\":\"NR\"}                                                                    |\n",
      "|10018|{\"movie\":\"10018\",\"title\":\"이티\",\"title_eng\":\"The Extra-Terrestrial , E.T. , 1982\",\"year\":2011,\"grade\":\"전체 관람가\"}                                    |\n",
      "|10019|{\"movie\":\"10019\",\"title\":\"내일을 향해 쏴라\",\"title_eng\":\"Butch Cassidy And The Sundance Kid , 1969\",\"year\":1970,\"grade\":\"15세 관람가\"}                  |\n",
      "+-----+--------------------------------------------------------------------------------------------------------------------------------------------------------+\n",
      "only showing top 20 rows\n",
      "\n",
      "-------------------------------------------\n",
      "Batch: 2\n",
      "-------------------------------------------\n",
      "+-----+------------------------------------------------------------------------------------------------------------------------------------+\n",
      "|key  |value                                                                                                                               |\n",
      "+-----+------------------------------------------------------------------------------------------------------------------------------------+\n",
      "|10085|{\"movie\":\"10085\",\"title\":\"폴리스 아카데미 6\",\"title_eng\":\"Police Academy 6: City Under Siege , 1989\",\"year\":0,\"grade\":\"PG\"}         |\n",
      "|10086|{\"movie\":\"10086\",\"title\":\"미션\",\"title_eng\":\"The Mission , 1986\",\"year\":2019,\"grade\":\"12세 관람가\"}                                 |\n",
      "|10087|{\"movie\":\"10087\",\"title\":\"토요일 밤의 열기\",\"title_eng\":\"Saturday Night Fever , 1977\",\"year\":1978,\"grade\":\"청소년 관람불가\"}        |\n",
      "|10088|{\"movie\":\"10088\",\"title\":\"파이어폭스\",\"title_eng\":\"Firefox , 1982\",\"year\":1983,\"grade\":\"12세 관람가\"}                               |\n",
      "|10089|{\"movie\":\"10089\",\"title\":\"그리스\",\"title_eng\":\"Grease , 1978\",\"year\":1980,\"grade\":\"12세 관람가\"}                                    |\n",
      "|10090|{\"movie\":\"10090\",\"title\":\"챔프\",\"title_eng\":\"The Champ , 1979\",\"year\":1979,\"grade\":\"NR\"}                                            |\n",
      "|10091|{\"movie\":\"10091\",\"title\":\"네 멋대로 해라\",\"title_eng\":\"A Bout De Souffle , Breathless , 1959\",\"year\":0,\"grade\":\"NR\"}                |\n",
      "|10092|{\"movie\":\"10092\",\"title\":\"네버엔딩 스토리\",\"title_eng\":\"The NeverEnding Story , 1984\",\"year\":1988,\"grade\":\"전체 관람가\"}            |\n",
      "|10093|{\"movie\":\"10093\",\"title\":\"러브 스토리\",\"title_eng\":\"Love Story , 1970\",\"year\":1971,\"grade\":\"15세 관람가\"}                           |\n",
      "|10094|{\"movie\":\"10094\",\"title\":\"마이 웨이\",\"title_eng\":\"The Winners , My Way , 1975\",\"year\":1979,\"grade\":\"NR\"}                            |\n",
      "|10095|{\"movie\":\"10095\",\"title\":\"고스트버스터즈\",\"title_eng\":\"Ghostbusters , 1984\",\"year\":1984,\"grade\":\"12세 관람가\"}                      |\n",
      "|10096|{\"movie\":\"10096\",\"title\":\"고스트버스터즈 2\",\"title_eng\":\"Ghostbusters II , 1989\",\"year\":1990,\"grade\":\"PG\"}                          |\n",
      "|10097|{\"movie\":\"10097\",\"title\":\"굿모닝 베트남\",\"title_eng\":\"Good Morning, Vietnam , 1987\",\"year\":0,\"grade\":\"15세 관람가\"}                 |\n",
      "|10098|{\"movie\":\"10098\",\"title\":\"자유의 댄스\",\"title_eng\":\"Footloose , 1984\",\"year\":0,\"grade\":\"PG\"}                                        |\n",
      "|10099|{\"movie\":\"10099\",\"title\":\"남과 여\",\"title_eng\":\"Un Homme Et Une Femme , A Man And A Woman , 1966\",\"year\":1979,\"grade\":\"15세 관람가\"}|\n",
      "|10100|{\"movie\":\"10100\",\"title\":\"탑건\",\"title_eng\":\"Top Gun , 1986\",\"year\":2018,\"grade\":\"15세 관람가\"}                                     |\n",
      "|10101|{\"movie\":\"10101\",\"title\":\"로마의 휴일\",\"title_eng\":\"Roman Holiday , 1953\",\"year\":1955,\"grade\":\"NR\"}                                 |\n",
      "|10102|{\"movie\":\"10102\",\"title\":\"사운드 오브 뮤직\",\"title_eng\":\"The Sound Of Music , 1965\",\"year\":2017,\"grade\":\"전체 관람가\"}              |\n",
      "|10103|{\"movie\":\"10103\",\"title\":\"닥터 지바고\",\"title_eng\":\"Doctor Zhivago , 1965\",\"year\":2012,\"grade\":\"12세 관람가\"}                       |\n",
      "|10104|{\"movie\":\"10104\",\"title\":\"사관과 신사\",\"title_eng\":\"An Officer And A Gentleman , 1982\",\"year\":1983,\"grade\":\"청소년 관람불가\"}       |\n",
      "+-----+------------------------------------------------------------------------------------------------------------------------------------+\n",
      "only showing top 20 rows\n",
      "\n"
     ]
    }
   ],
   "source": [
    "val df = spark\n",
    "  .readStream\n",
    "  .format(\"kafka\")\n",
    "  .option(\"kafka.bootstrap.servers\", \"kafka:9093\")\n",
    "  .option(\"subscribe\", \"kor_movies\")\n",
    "  .option(\"startingOffsets\", \"earliest\")\n",
    "  .load()\n",
    "\n",
    "df.printSchema()\n",
    "// complete 모드는 aggregate 연산이 있는 경우만 가능하므로 append 모드로 설정\n",
    "val ds = df.selectExpr(\"CAST(key AS STRING)\", \"CAST(value AS STRING)\")\n",
    "  .as[(String, String)]\n",
    "  .writeStream\n",
    "  .outputMode(\"append\")\n",
    "  .queryName(\"debug\")\n",
    "  .format(\"console\")\n",
    "  .option(\"truncate\", \"false\")\n",
    "  .start()\n",
    "\n",
    "// 모든 값들은 value 내에 포함된 json 을 타임에 맞게 읽어줘야 함"
   ]
  },
  {
   "cell_type": "code",
   "execution_count": null,
   "id": "673efa1a-3067-47c7-9a14-b3b01f2d9f62",
   "metadata": {},
   "outputs": [
    {
     "data": {
      "text/plain": [
       "Intitializing Scala interpreter ..."
      ]
     },
     "metadata": {},
     "output_type": "display_data"
    }
   ],
   "source": [
    "ds.status"
   ]
  },
  {
   "cell_type": "code",
   "execution_count": 28,
   "id": "1d72d14a-dab3-450f-b2f6-b51ef90ef2fe",
   "metadata": {},
   "outputs": [],
   "source": [
    "ds.stop()"
   ]
  },
  {
   "cell_type": "code",
   "execution_count": 11,
   "id": "a2a21f59-6207-4b81-94f1-a71423a2f207",
   "metadata": {},
   "outputs": [
    {
     "data": {
      "text/plain": [
       "import org.apache.spark.sql.types._\n",
       "schema: org.apache.spark.sql.types.StructType = StructType(StructField(movie,StringType,false), StructField(title,StringType,false), StructField(title_eng,StringType,false), StructField(year,IntegerType,true), StructField(grade,StringType,false))\n"
      ]
     },
     "execution_count": 11,
     "metadata": {},
     "output_type": "execute_result"
    }
   ],
   "source": [
    "import org.apache.spark.sql.types._\n",
    "// {\"movie\":\"10010\",\"title\":\"슈퍼맨 3\",\"title_eng\":\"Superman III , 1983\",\"year\":0,\"grade\":\"전체 관람가\"}\n",
    "val schema = StructType(\n",
    "      StructField(\"movie\", StringType, false) ::\n",
    "      StructField(\"title\", StringType, false) ::\n",
    "      StructField(\"title_eng\", StringType, false) ::\n",
    "      StructField(\"year\", IntegerType, true) ::\n",
    "      StructField(\"grade\", StringType, false) :: Nil)"
   ]
  },
  {
   "cell_type": "code",
   "execution_count": 25,
   "id": "167a132d-2760-44b9-8267-b60cd8386b14",
   "metadata": {},
   "outputs": [
    {
     "name": "stdout",
     "output_type": "stream",
     "text": [
      "root\n",
      " |-- key: binary (nullable = true)\n",
      " |-- value: binary (nullable = true)\n",
      " |-- topic: string (nullable = true)\n",
      " |-- partition: integer (nullable = true)\n",
      " |-- offset: long (nullable = true)\n",
      " |-- timestamp: timestamp (nullable = true)\n",
      " |-- timestampType: integer (nullable = true)\n",
      "\n"
     ]
    },
    {
     "data": {
      "text/plain": [
       "movies: org.apache.spark.sql.DataFrame = [key: binary, value: binary ... 5 more fields]\n"
      ]
     },
     "execution_count": 25,
     "metadata": {},
     "output_type": "execute_result"
    }
   ],
   "source": [
    "val movies = spark\n",
    "  .readStream\n",
    "  .format(\"kafka\")\n",
    "  .option(\"kafka.bootstrap.servers\", \"kafka:9093\")\n",
    "  .option(\"subscribe\", \"movies\")\n",
    "  .option(\"startingOffsets\", \"earliest\")\n",
    "  .load()\n",
    "\n",
    "df.printSchema()"
   ]
  },
  {
   "cell_type": "code",
   "execution_count": 26,
   "id": "68e02820-0c02-4a4f-a288-b0812631321f",
   "metadata": {},
   "outputs": [
    {
     "ename": "org.apache.spark.sql.streaming.StreamingQueryException",
     "evalue": " Query kafka-streaming [id = 1d24ff78-619b-498e-9e22-ea3bf57bde66, runId = 6b96c306-83f7-4342-8c8d-87011dab5c8d] terminated with exception: org/apache/spark/sql/internal/connector/SupportsStreamingUpdate",
     "output_type": "error",
     "traceback": [
      "org.apache.spark.sql.streaming.StreamingQueryException: Query kafka-streaming [id = 1d24ff78-619b-498e-9e22-ea3bf57bde66, runId = 6b96c306-83f7-4342-8c8d-87011dab5c8d] terminated with exception: org/apache/spark/sql/internal/connector/SupportsStreamingUpdate",
      "  at org.apache.spark.sql.execution.streaming.StreamExecution.org$apache$spark$sql$execution$streaming$StreamExecution$$runStream(StreamExecution.scala:325)",
      "  at org.apache.spark.sql.execution.streaming.StreamExecution$$anon$1.run(StreamExecution.scala:209)",
      "Caused by: java.lang.NoClassDefFoundError: org/apache/spark/sql/internal/connector/SupportsStreamingUpdate",
      "  at org.apache.spark.sql.kafka010.KafkaSourceProvider$KafkaTable.newWriteBuilder(KafkaSourceProvider.scala:397)",
      "  at org.apache.spark.sql.execution.streaming.StreamExecution.createStreamingWrite(StreamExecution.scala:590)",
      "  at org.apache.spark.sql.execution.streaming.MicroBatchExecution.logicalPlan$lzycompute(MicroBatchExecution.scala:140)",
      "  at org.apache.spark.sql.execution.streaming.MicroBatchExecution.logicalPlan(MicroBatchExecution.scala:59)",
      "  at org.apache.spark.sql.execution.streaming.StreamExecution.$anonfun$runStream$1(StreamExecution.scala:295)",
      "  at scala.runtime.java8.JFunction0$mcV$sp.apply(JFunction0$mcV$sp.java:23)",
      "  at org.apache.spark.sql.SparkSession.withActive(SparkSession.scala:775)",
      "  at org.apache.spark.sql.execution.streaming.StreamExecution.org$apache$spark$sql$execution$streaming$StreamExecution$$runStream(StreamExecution.scala:286)",
      "  ... 1 more",
      ""
     ]
    }
   ],
   "source": [
    "val select = movies.select(col(\"key\").cast(\"string\"), from_json(col(\"value\").cast(\"string\"), schema).alias(\"movies\"))\n",
    "\n",
    "val sink = select\n",
    "  .selectExpr(\"movies.title as title\", \"movies.year as year\").as[(String, Int)]\n",
    "  .writeStream\n",
    "  .outputMode(\"append\")\n",
    "  .queryName(\"kafka-streaming\")\n",
    "  .format(\"kafka\")\n",
    "  .option(\"kafka.bootstrap.servers\", \"kafka:9093\")\n",
    "  .option(\"topioc\", \"kor_movies\")\n",
    "  .option(\"checkpointLocation\", \"/home/jovyan/work/data/tmp/kafka-sink\")\n",
    "  .start()\n",
    "\n",
    "sink.awaitTermination()\n",
    "sink.status"
   ]
  },
  {
   "cell_type": "code",
   "execution_count": null,
   "id": "c13419df-07da-45d8-afd5-6d29d7c46d36",
   "metadata": {},
   "outputs": [],
   "source": [
    "sink"
   ]
  },
  {
   "cell_type": "code",
   "execution_count": 12,
   "id": "9ec2964f-8b44-4c23-93aa-5887cbc4400f",
   "metadata": {},
   "outputs": [
    {
     "data": {
      "text/plain": [
       "ds: org.apache.spark.sql.streaming.StreamingQuery = org.apache.spark.sql.execution.streaming.StreamingQueryWrapper@99db418\n"
      ]
     },
     "execution_count": 12,
     "metadata": {},
     "output_type": "execute_result"
    }
   ],
   "source": [
    "val ds = select\n",
    "  .writeStream\n",
    "  .format(\"kafka\")\n",
    "  .option(\"kafka.bootstrap.servers\", \"kafka:9093\")\n",
    "  .option(\"topic\", \"kor_movies\")\n",
    "  .option(\"checkpointLocation\", \"/home/jovyan/work/data/tmp/scala/kafkasink\")\n",
    "  .start()"
   ]
  },
  {
   "cell_type": "code",
   "execution_count": 22,
   "id": "9954bf50-4512-44b2-8282-cfd300bdc97b",
   "metadata": {},
   "outputs": [
    {
     "name": "stdout",
     "output_type": "stream",
     "text": [
      "{\n",
      "  \"message\" : \"Stopped\",\n",
      "  \"isDataAvailable\" : false,\n",
      "  \"isTriggerActive\" : false\n",
      "}\n"
     ]
    }
   ],
   "source": [
    "println(ds.status)"
   ]
  },
  {
   "cell_type": "code",
   "execution_count": 23,
   "id": "c67c6bb2-eff9-4539-97a8-ef76fd6bb883",
   "metadata": {},
   "outputs": [],
   "source": [
    "ds.awaitTermination()"
   ]
  },
  {
   "cell_type": "code",
   "execution_count": 27,
   "id": "e93550ad-6e1f-41e5-bc8d-4fd55341d54b",
   "metadata": {},
   "outputs": [],
   "source": [
    "ds.stop()"
   ]
  },
  {
   "cell_type": "code",
   "execution_count": null,
   "id": "f956ae40-7c79-49d5-bd95-d82f2b0d5d64",
   "metadata": {},
   "outputs": [],
   "source": []
  }
 ],
 "metadata": {
  "kernelspec": {
   "display_name": "spylon-kernel",
   "language": "scala",
   "name": "spylon-kernel"
  },
  "language_info": {
   "codemirror_mode": "text/x-scala",
   "file_extension": ".scala",
   "help_links": [
    {
     "text": "MetaKernel Magics",
     "url": "https://metakernel.readthedocs.io/en/latest/source/README.html"
    }
   ],
   "mimetype": "text/x-scala",
   "name": "scala",
   "pygments_lexer": "scala",
   "version": "0.4.1"
  }
 },
 "nbformat": 4,
 "nbformat_minor": 5
}
